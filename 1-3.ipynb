{
 "cells": [
  {
   "cell_type": "code",
   "execution_count": 1,
   "id": "76f2f312",
   "metadata": {},
   "outputs": [],
   "source": [
    "from csv import reader"
   ]
  },
  {
   "cell_type": "code",
   "execution_count": 2,
   "id": "d0e53e9e",
   "metadata": {},
   "outputs": [
    {
     "data": {
      "text/plain": [
       "[['Roll No.', 'Name', 'Chemistry', 'Physics', 'Maths'],\n",
       " ['101', 'Aliza', '45', '99', '88'],\n",
       " ['102', 'Soban', '50', '97', '87'],\n",
       " ['103', 'Noman', '43', '94', '89'],\n",
       " ['104', 'Bilal', '42', '87', '85'],\n",
       " ['105', 'Saim', '39', '76', '76']]"
      ]
     },
     "execution_count": 2,
     "metadata": {},
     "output_type": "execute_result"
    }
   ],
   "source": [
    "data = list(reader(open(\"students_data.csv\")))\n",
    "data[:6]"
   ]
  },
  {
   "cell_type": "code",
   "execution_count": 3,
   "id": "b6fd7290",
   "metadata": {},
   "outputs": [
    {
     "data": {
      "text/plain": [
       "22"
      ]
     },
     "execution_count": 3,
     "metadata": {},
     "output_type": "execute_result"
    }
   ],
   "source": [
    "len(data)"
   ]
  },
  {
   "cell_type": "code",
   "execution_count": 4,
   "id": "a4b71a73",
   "metadata": {},
   "outputs": [
    {
     "data": {
      "text/plain": [
       "['Roll No.', 'Name', 'Chemistry', 'Physics', 'Maths']"
      ]
     },
     "execution_count": 4,
     "metadata": {},
     "output_type": "execute_result"
    }
   ],
   "source": [
    "data[0]"
   ]
  },
  {
   "cell_type": "code",
   "execution_count": 5,
   "id": "7994aee6",
   "metadata": {},
   "outputs": [
    {
     "name": "stdout",
     "output_type": "stream",
     "text": [
      "<class 'str'>\n",
      "<class 'str'>\n",
      "<class 'str'>\n",
      "<class 'str'>\n",
      "<class 'str'>\n",
      "<class 'str'>\n",
      "<class 'str'>\n",
      "<class 'str'>\n",
      "<class 'str'>\n",
      "<class 'str'>\n",
      "<class 'str'>\n",
      "<class 'str'>\n",
      "<class 'str'>\n",
      "<class 'str'>\n",
      "<class 'str'>\n",
      "<class 'str'>\n",
      "<class 'str'>\n",
      "<class 'str'>\n",
      "<class 'str'>\n",
      "<class 'str'>\n",
      "<class 'str'>\n"
     ]
    }
   ],
   "source": [
    "for i in data[1:]:\n",
    "    print(type(i[1]))"
   ]
  },
  {
   "cell_type": "code",
   "execution_count": 6,
   "id": "11bd0692",
   "metadata": {},
   "outputs": [
    {
     "data": {
      "text/plain": [
       "1"
      ]
     },
     "execution_count": 6,
     "metadata": {},
     "output_type": "execute_result"
    }
   ],
   "source": [
    "data[0].index(\"Name\")"
   ]
  },
  {
   "cell_type": "code",
   "execution_count": 7,
   "id": "eda33561",
   "metadata": {},
   "outputs": [
    {
     "name": "stdout",
     "output_type": "stream",
     "text": [
      "Aliza\n",
      "Soban\n",
      "Noman\n",
      "Bilal\n",
      "Saim\n",
      "Shameer\n",
      "Zainab\n",
      "Umer\n",
      "Umair\n",
      "Fizzah\n",
      "Zahra\n",
      "Fatima\n",
      "Tooba\n",
      "Saad\n",
      "Azher\n",
      "Danial\n",
      "kaiser\n",
      "Jibran\n",
      "Maria\n",
      "Amna\n",
      "Noreen\n"
     ]
    }
   ],
   "source": [
    "for i in data[1:]:\n",
    "    print(i[1])"
   ]
  },
  {
   "cell_type": "code",
   "execution_count": 8,
   "id": "b64a7575",
   "metadata": {},
   "outputs": [
    {
     "data": {
      "text/plain": [
       "2"
      ]
     },
     "execution_count": 8,
     "metadata": {},
     "output_type": "execute_result"
    }
   ],
   "source": [
    "data[0].index(\"Chemistry\")"
   ]
  },
  {
   "cell_type": "code",
   "execution_count": 9,
   "id": "82e2e0f8",
   "metadata": {},
   "outputs": [
    {
     "name": "stdout",
     "output_type": "stream",
     "text": [
      "45\n",
      "50\n",
      "43\n",
      "42\n",
      "39\n",
      "38\n",
      "47\n",
      "46\n",
      "35\n",
      "36\n",
      "49\n",
      "45\n",
      "43\n",
      "42\n",
      "41\n",
      "34\n",
      "45\n",
      "46\n",
      "43\n",
      "38\n",
      "37\n"
     ]
    }
   ],
   "source": [
    "for i in data[1:]:\n",
    "    print(i[2])"
   ]
  },
  {
   "cell_type": "code",
   "execution_count": 10,
   "id": "9d6841f3",
   "metadata": {},
   "outputs": [
    {
     "name": "stdout",
     "output_type": "stream",
     "text": [
      "<class 'str'>\n",
      "<class 'str'>\n",
      "<class 'str'>\n",
      "<class 'str'>\n",
      "<class 'str'>\n",
      "<class 'str'>\n",
      "<class 'str'>\n",
      "<class 'str'>\n",
      "<class 'str'>\n",
      "<class 'str'>\n",
      "<class 'str'>\n",
      "<class 'str'>\n",
      "<class 'str'>\n",
      "<class 'str'>\n",
      "<class 'str'>\n",
      "<class 'str'>\n",
      "<class 'str'>\n",
      "<class 'str'>\n",
      "<class 'str'>\n",
      "<class 'str'>\n",
      "<class 'str'>\n"
     ]
    }
   ],
   "source": [
    "for i in data[1:]:\n",
    "    print(type(i[2]))"
   ]
  },
  {
   "cell_type": "code",
   "execution_count": 11,
   "id": "052e8fdb",
   "metadata": {},
   "outputs": [],
   "source": [
    "for i in data[1:]:\n",
    "    i[2] = int(i[2])\n",
    "    "
   ]
  },
  {
   "cell_type": "code",
   "execution_count": 12,
   "id": "6c816ccf",
   "metadata": {},
   "outputs": [
    {
     "data": {
      "text/plain": [
       "['Roll No.', 'Name', 'Chemistry', 'Physics', 'Maths']"
      ]
     },
     "execution_count": 12,
     "metadata": {},
     "output_type": "execute_result"
    }
   ],
   "source": [
    "data[0]"
   ]
  },
  {
   "cell_type": "code",
   "execution_count": 13,
   "id": "02a5ba79",
   "metadata": {},
   "outputs": [
    {
     "name": "stdout",
     "output_type": "stream",
     "text": [
      "<class 'int'>\n",
      "<class 'int'>\n",
      "<class 'int'>\n",
      "<class 'int'>\n",
      "<class 'int'>\n",
      "<class 'int'>\n",
      "<class 'int'>\n",
      "<class 'int'>\n",
      "<class 'int'>\n",
      "<class 'int'>\n",
      "<class 'int'>\n",
      "<class 'int'>\n",
      "<class 'int'>\n",
      "<class 'int'>\n",
      "<class 'int'>\n",
      "<class 'int'>\n",
      "<class 'int'>\n",
      "<class 'int'>\n",
      "<class 'int'>\n",
      "<class 'int'>\n",
      "<class 'int'>\n"
     ]
    }
   ],
   "source": [
    "for i in data[1:]:\n",
    "    print(type(i[2]))"
   ]
  },
  {
   "cell_type": "code",
   "execution_count": 14,
   "id": "43590aa1",
   "metadata": {},
   "outputs": [],
   "source": [
    "chem_sum = []\n",
    "for i in data[1:]:\n",
    "    chem = i[2]\n",
    "    chem_sum.append(chem)"
   ]
  },
  {
   "cell_type": "code",
   "execution_count": 15,
   "id": "213a7cc4",
   "metadata": {},
   "outputs": [
    {
     "name": "stdout",
     "output_type": "stream",
     "text": [
      "[45, 50, 43, 42, 39, 38, 47, 46, 35, 36, 49, 45, 43, 42, 41, 34, 45, 46, 43, 38, 37]\n"
     ]
    }
   ],
   "source": [
    "print(chem_sum)"
   ]
  },
  {
   "cell_type": "code",
   "execution_count": 16,
   "id": "ec4c37cd",
   "metadata": {},
   "outputs": [
    {
     "data": {
      "text/plain": [
       "42.1"
      ]
     },
     "execution_count": 16,
     "metadata": {},
     "output_type": "execute_result"
    }
   ],
   "source": [
    "round(sum(chem_sum)/len(chem_sum),2)"
   ]
  },
  {
   "cell_type": "code",
   "execution_count": 17,
   "id": "b820128b",
   "metadata": {},
   "outputs": [
    {
     "data": {
      "text/plain": [
       "3"
      ]
     },
     "execution_count": 17,
     "metadata": {},
     "output_type": "execute_result"
    }
   ],
   "source": [
    "data[0].index(\"Physics\")"
   ]
  },
  {
   "cell_type": "code",
   "execution_count": 18,
   "id": "ba902bec",
   "metadata": {},
   "outputs": [],
   "source": [
    "for i in data[1:]:\n",
    "    i[3] = int(i[3])\n",
    "    i[4] = int(i[4])"
   ]
  },
  {
   "cell_type": "code",
   "execution_count": 19,
   "id": "e845e61c",
   "metadata": {},
   "outputs": [],
   "source": [
    "phy_avg = []\n",
    "for i in data[1:]:\n",
    "    phy = i[3]\n",
    "    phy_avg.append(phy)\n"
   ]
  },
  {
   "cell_type": "code",
   "execution_count": 20,
   "id": "0ea14c6f",
   "metadata": {},
   "outputs": [
    {
     "data": {
      "text/plain": [
       "[99,\n",
       " 97,\n",
       " 94,\n",
       " 87,\n",
       " 76,\n",
       " 58,\n",
       " 92,\n",
       " 86,\n",
       " 83,\n",
       " 81,\n",
       " 90,\n",
       " 88,\n",
       " 80,\n",
       " 90,\n",
       " 93,\n",
       " 82,\n",
       " 91,\n",
       " 77,\n",
       " 69,\n",
       " 89,\n",
       " 98]"
      ]
     },
     "execution_count": 20,
     "metadata": {},
     "output_type": "execute_result"
    }
   ],
   "source": [
    "phy_avg"
   ]
  },
  {
   "cell_type": "code",
   "execution_count": 21,
   "id": "ad612cc0",
   "metadata": {},
   "outputs": [
    {
     "data": {
      "text/plain": [
       "85.71428571428571"
      ]
     },
     "execution_count": 21,
     "metadata": {},
     "output_type": "execute_result"
    }
   ],
   "source": [
    "sum(phy_avg)/len(phy_avg)"
   ]
  },
  {
   "cell_type": "code",
   "execution_count": 22,
   "id": "18de3c7e",
   "metadata": {},
   "outputs": [],
   "source": [
    "maths = []\n",
    "for i in data[1:]:\n",
    "    mat = i[4]\n",
    "    phy_avg.append(mat)"
   ]
  },
  {
   "cell_type": "code",
   "execution_count": 23,
   "id": "51142779",
   "metadata": {},
   "outputs": [
    {
     "name": "stdout",
     "output_type": "stream",
     "text": [
      "77.33\n",
      "78.0\n",
      "75.33\n",
      "71.33\n",
      "63.67\n",
      "57.0\n",
      "72.33\n",
      "68.33\n",
      "69.0\n",
      "71.33\n",
      "77.67\n",
      "77.33\n",
      "72.0\n",
      "69.67\n",
      "77.33\n",
      "67.67\n",
      "74.0\n",
      "67.0\n",
      "68.67\n",
      "72.67\n",
      "75.0\n"
     ]
    }
   ],
   "source": [
    "for i in data[1:]:\n",
    "    percentage = (i[2] + i[4] + i[3])/300 * 100\n",
    "    percentage = round(percentage,2)\n",
    "    i.append(percentage)\n",
    "    print(percentage)"
   ]
  },
  {
   "cell_type": "code",
   "execution_count": 24,
   "id": "1cefa998",
   "metadata": {},
   "outputs": [],
   "source": [
    "data[0].append(\"Percentage\")"
   ]
  },
  {
   "cell_type": "code",
   "execution_count": 25,
   "id": "78122abe",
   "metadata": {},
   "outputs": [
    {
     "data": {
      "text/plain": [
       "[['Roll No.', 'Name', 'Chemistry', 'Physics', 'Maths', 'Percentage'],\n",
       " ['101', 'Aliza', 45, 99, 88, 77.33],\n",
       " ['102', 'Soban', 50, 97, 87, 78.0],\n",
       " ['103', 'Noman', 43, 94, 89, 75.33],\n",
       " ['104', 'Bilal', 42, 87, 85, 71.33],\n",
       " ['105', 'Saim', 39, 76, 76, 63.67],\n",
       " ['106', 'Shameer', 38, 58, 75, 57.0],\n",
       " ['107', 'Zainab', 47, 92, 78, 72.33],\n",
       " ['108', 'Umer', 46, 86, 73, 68.33],\n",
       " ['109', 'Umair', 35, 83, 89, 69.0],\n",
       " ['110', 'Fizzah', 36, 81, 97, 71.33],\n",
       " ['111', 'Zahra', 49, 90, 94, 77.67],\n",
       " ['112', 'Fatima', 45, 88, 99, 77.33],\n",
       " ['113', 'Tooba', 43, 80, 93, 72.0],\n",
       " ['114', 'Saad', 42, 90, 77, 69.67],\n",
       " ['115', 'Azher', 41, 93, 98, 77.33],\n",
       " ['116', 'Danial', 34, 82, 87, 67.67],\n",
       " ['117', 'kaiser', 45, 91, 86, 74.0],\n",
       " ['118', 'Jibran', 46, 77, 78, 67.0],\n",
       " ['119', 'Maria', 43, 69, 94, 68.67],\n",
       " ['120', 'Amna', 38, 89, 91, 72.67],\n",
       " ['121', 'Noreen', 37, 98, 90, 75.0]]"
      ]
     },
     "execution_count": 25,
     "metadata": {},
     "output_type": "execute_result"
    }
   ],
   "source": [
    "data"
   ]
  },
  {
   "cell_type": "code",
   "execution_count": 26,
   "id": "c30f11ea",
   "metadata": {},
   "outputs": [],
   "source": [
    "data[0].append(\"Grades\")"
   ]
  },
  {
   "cell_type": "code",
   "execution_count": 31,
   "id": "e2dc652b",
   "metadata": {},
   "outputs": [],
   "source": [
    "for i in data[1:]:\n",
    "    Percentage = i[-1]\n",
    "    if Percentage > 80 and Percentage < 100:\n",
    "        i.append(\"A1\")\n",
    "    elif Percentage > 70 and Percentage <= 80:\n",
    "        i.append(\"A\")\n",
    "    elif Percentage > 60 and Percentage <= 70:\n",
    "        i.append(\"B\")\n",
    "    elif Percentage > 50 and Percentage <= 60:\n",
    "        i.append(\"C\")\n",
    "    else:\n",
    "        i.append(\"F\")"
   ]
  },
  {
   "cell_type": "code",
   "execution_count": 33,
   "id": "c37423b4",
   "metadata": {},
   "outputs": [
    {
     "data": {
      "text/plain": [
       "[['Roll No.', 'Name', 'Chemistry', 'Physics', 'Maths', 'Percentage', 'Grades'],\n",
       " ['101', 'Aliza', 45, 99, 88, 77.33, 'A'],\n",
       " ['102', 'Soban', 50, 97, 87, 78.0, 'A'],\n",
       " ['103', 'Noman', 43, 94, 89, 75.33, 'A'],\n",
       " ['104', 'Bilal', 42, 87, 85, 71.33, 'A'],\n",
       " ['105', 'Saim', 39, 76, 76, 63.67, 'B'],\n",
       " ['106', 'Shameer', 38, 58, 75, 57.0, 'C'],\n",
       " ['107', 'Zainab', 47, 92, 78, 72.33, 'A'],\n",
       " ['108', 'Umer', 46, 86, 73, 68.33, 'B'],\n",
       " ['109', 'Umair', 35, 83, 89, 69.0, 'B'],\n",
       " ['110', 'Fizzah', 36, 81, 97, 71.33, 'A'],\n",
       " ['111', 'Zahra', 49, 90, 94, 77.67, 'A'],\n",
       " ['112', 'Fatima', 45, 88, 99, 77.33, 'A'],\n",
       " ['113', 'Tooba', 43, 80, 93, 72.0, 'A'],\n",
       " ['114', 'Saad', 42, 90, 77, 69.67, 'B'],\n",
       " ['115', 'Azher', 41, 93, 98, 77.33, 'A'],\n",
       " ['116', 'Danial', 34, 82, 87, 67.67, 'B'],\n",
       " ['117', 'kaiser', 45, 91, 86, 74.0, 'A'],\n",
       " ['118', 'Jibran', 46, 77, 78, 67.0, 'B'],\n",
       " ['119', 'Maria', 43, 69, 94, 68.67, 'B'],\n",
       " ['120', 'Amna', 38, 89, 91, 72.67, 'A'],\n",
       " ['121', 'Noreen', 37, 98, 90, 75.0, 'A']]"
      ]
     },
     "execution_count": 33,
     "metadata": {},
     "output_type": "execute_result"
    }
   ],
   "source": [
    "data"
   ]
  },
  {
   "cell_type": "code",
   "execution_count": null,
   "id": "91ab9013",
   "metadata": {},
   "outputs": [],
   "source": []
  }
 ],
 "metadata": {
  "kernelspec": {
   "display_name": "Python 3",
   "language": "python",
   "name": "python3"
  },
  "language_info": {
   "codemirror_mode": {
    "name": "ipython",
    "version": 3
   },
   "file_extension": ".py",
   "mimetype": "text/x-python",
   "name": "python",
   "nbconvert_exporter": "python",
   "pygments_lexer": "ipython3",
   "version": "3.8.8"
  }
 },
 "nbformat": 4,
 "nbformat_minor": 5
}
